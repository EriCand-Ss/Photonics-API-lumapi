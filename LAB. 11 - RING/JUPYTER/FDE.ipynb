{
 "cells": [
  {
   "cell_type": "code",
   "execution_count": 1,
   "metadata": {},
   "outputs": [
    {
     "name": "stderr",
     "output_type": "stream",
     "text": [
      "C:\\Program Files\\Lumerical\\v221\\api\\python\\lumapi.py:796: SyntaxWarning: invalid escape sequence '\\s'\n",
      "  message = re.sub('^(Error:)\\s(prompt line)\\s[0-9]+:', '', str(rvals[2])).strip()\n"
     ]
    }
   ],
   "source": [
    "%matplotlib inline\n",
    "\n",
    "import sys\n",
    "from lumapi import MODE\n",
    "import os\n",
    "import numpy as np\n",
    "import scipy as sp\n",
    "import matplotlib.pyplot as plt"
   ]
  },
  {
   "cell_type": "code",
   "execution_count": 2,
   "metadata": {},
   "outputs": [],
   "source": [
    "mode = MODE()"
   ]
  },
  {
   "cell_type": "code",
   "execution_count": 3,
   "metadata": {},
   "outputs": [],
   "source": [
    "um = 1e-6\n",
    "nm = 1e-9"
   ]
  },
  {
   "cell_type": "markdown",
   "metadata": {},
   "source": [
    "## Definindo Geometria"
   ]
  },
  {
   "cell_type": "code",
   "execution_count": null,
   "metadata": {},
   "outputs": [],
   "source": [
    "sub_material = 'SiO2 (Glass) - Palik'\n",
    "\n",
    "comprimento = 8*um\n",
    "largura = 0.45*um\n",
    "altura = 0.22*um\n",
    "diametro = 8*um\n",
    "guia_inferior = 50*um\n",
    "gap = 0.2*um\n",
    "\n",
    "core_material = 'Si (Silicon) - Palik'\n"
   ]
  },
  {
   "cell_type": "code",
   "execution_count": 16,
   "metadata": {},
   "outputs": [],
   "source": [
    "mode.switchtolayout()\n",
    "mode.deleteall()\n",
    "\n",
    "mode.addrect()\n",
    "mode.set('name', 'core_1')\n",
    "mode.set('material', core_material)\n",
    "mode.set(\"x\",0)\n",
    "mode.set(\"y\",0)\n",
    "mode.set(\"z\",0)\n",
    "mode.set(\"x span\",2*comprimento)\n",
    "mode.set(\"y span\",largura)\n",
    "mode.set(\"z span\",altura)\n",
    "\n",
    "mode.addobject(\"180_bend_wg\")\n",
    "mode.set(\"name\", \"bend\")\n",
    "mode.set(\"first axis\", 'z')\n",
    "mode.set(\"base width\", largura)\n",
    "mode.set(\"base height\", altura)\n",
    "mode.set(\"radius\", diametro)\n",
    "mode.set(\"rotation 1\", 180)\n",
    "mode.set(\"x\", 0)\n",
    "mode.set(\"y\", diametro + largura + gap)\n",
    "mode.set(\"z\", 0)\n",
    "\n"
   ]
  },
  {
   "cell_type": "markdown",
   "metadata": {},
   "source": [
    "## Definindo Geometria do Solver"
   ]
  },
  {
   "cell_type": "code",
   "execution_count": 22,
   "metadata": {},
   "outputs": [],
   "source": [
    "fde_solve_material = sub_material\n",
    "\n",
    "x_span_fde = 0\n",
    "y_span_fde = 3*um\n",
    "z_span_fde = 3*um\n",
    "\n",
    "mesh_cells = 100\n",
    "wavelength = 1550*nm\n",
    "startWvg = 1500*nm\n",
    "stopWvg = 1600*nm\n",
    "modes = 4\n",
    "\n",
    "y_fde = (largura+gap)/2\n",
    "\n",
    "mesh_multiplier = 2"
   ]
  },
  {
   "cell_type": "code",
   "execution_count": null,
   "metadata": {},
   "outputs": [],
   "source": [
    "mode.switchtolayout()\n",
    "\n",
    "mode.select(\"FDE\")\n",
    "mode.delete()\n",
    "\n",
    "mode.select(\"mesh\")\n",
    "mode.delete()\n",
    "\n",
    "mode.addfde()\n",
    "mode.set(\"solver type\", '2D X normal')\n",
    "mode.set(\"background material\", fde_solve_material)\n",
    "\n",
    "mode.set(\"x\", 0)\n",
    "mode.set(\"y\", y_fde)\n",
    "mode.set(\"z\", 0)\n",
    "\n",
    "mode.set(\"y span\", y_span_fde)\n",
    "mode.set(\"z span\", z_span_fde)\n",
    "\n",
    "mode.set(\"define y mesh by\", 'number of mesh cells')\n",
    "mode.set(\"define z mesh by\", 'number of mesh cells')\n",
    "mode.set(\"mesh cells y\", mesh_cells)\n",
    "mode.set(\"mesh cells z\", mesh_cells)\n",
    "\n",
    "# Set solver properties\n",
    "mode.set(\"wavelength\", wavelength)\n",
    "\n",
    "# Add ports\n",
    "mode.set(\"number of trial modes\", modes)\n",
    "\n",
    "# Set simulation boundaries\n",
    "mode.set('start waveLength', startWvg)\n",
    "mode.set('stop waveLength', stopWvg)\n",
    "\n",
    "mode.set('y min bc', 1)\n",
    "mode.set('y max bc', 1)\n",
    "mode.set('z min bc', 1)\n",
    "mode.set('z max bc', 1)\n",
    "\n",
    "mode.addmesh()\n",
    "mode.set(\"set mesh multiplier\", True)\n",
    "mode.set(\"x\", 0)\n",
    "mode.set(\"y\", y_fde)\n",
    "mode.set(\"z\", 0)\n",
    "\n",
    "mode.set(\"x span\", x_span_fde)\n",
    "mode.set(\"y span\", y_span_fde)\n",
    "mode.set(\"z span\", z_span_fde)\n",
    "mode.set(\"y mesh multiplier\", mesh_multiplier)\n",
    "mode.set(\"z mesh multiplier\", mesh_multiplier)"
   ]
  },
  {
   "cell_type": "code",
   "execution_count": 24,
   "metadata": {},
   "outputs": [],
   "source": [
    "mode.findmodes()\n",
    "\n",
    "mode.save(\"Guia Retangular\")"
   ]
  },
  {
   "cell_type": "markdown",
   "metadata": {},
   "source": [
    "## Índice de grupo e Índice efetivo"
   ]
  },
  {
   "cell_type": "code",
   "execution_count": 26,
   "metadata": {},
   "outputs": [
    {
     "name": "stdout",
     "output_type": "stream",
     "text": [
      "ng = 4.2122121112425885 \n",
      "neff =  2.369406914814772\n"
     ]
    }
   ],
   "source": [
    "group_index = mode.getresult(\"FDE::data::mode1\", \"ng\")\n",
    "neff = mode.getresult(\"FDE::data::mode1\", \"neff\")\n",
    "print(\"ng =\", np.abs(group_index[0][0]),\"\\nneff = \", np.abs(neff[0][0]))"
   ]
  },
  {
   "cell_type": "markdown",
   "metadata": {},
   "source": [
    "## Para o cálculo de $L_r$\n",
    "\n",
    "$FSR = \\frac{\\lambda^2}{n_g(\\lambda){L_r}}$"
   ]
  },
  {
   "cell_type": "code",
   "execution_count": 27,
   "metadata": {},
   "outputs": [
    {
     "name": "stdout",
     "output_type": "stream",
     "text": [
      "[570.36538915  57.03653891  28.51826946]\n"
     ]
    }
   ],
   "source": [
    "FSR = np.array([1*nm,10*nm,20*nm])\n",
    "\n",
    "Lr = (wavelength**2)/(np.abs(group_index[0][0])*FSR)\n",
    "print(Lr*1e6)"
   ]
  },
  {
   "cell_type": "markdown",
   "metadata": {},
   "source": [
    "## Acoplador Direcional fornecido pelo PDK SciPIC\n",
    "\n",
    "- **Lc** = 0 → Comprimento de acoplamento  \n",
    "- **Gap** = 0.2 µm  \n",
    "- **Raio** = 18 µm  \n",
    "- **Espessura** = 0.22 µm  \n",
    "- **Largura** = 0.5 µm  "
   ]
  },
  {
   "cell_type": "code",
   "execution_count": 45,
   "metadata": {},
   "outputs": [
    {
     "name": "stdout",
     "output_type": "stream",
     "text": [
      "Raio do acoplador DC = 4.53882 um\n",
      "Comprimentos para cada guia:  [270.92355984  14.25913473   0.        ]  um\n"
     ]
    }
   ],
   "source": [
    "# Raio do acoplador\n",
    "\n",
    "raio_dc = Lr[2]/(2*np.pi)\n",
    "# Comprimento total dc\n",
    "\n",
    "print(f'Raio do acoplador DC = {raio_dc * 1e6:.5f} um')\n",
    "\n",
    "comprimento_guias = Lr - (2*np.pi*raio_dc)\n",
    "print('Comprimentos para cada guia: ',(comprimento_guias*1e6)/2,' um')\n"
   ]
  }
 ],
 "metadata": {
  "kernelspec": {
   "display_name": "Python 3",
   "language": "python",
   "name": "python3"
  },
  "language_info": {
   "codemirror_mode": {
    "name": "ipython",
    "version": 3
   },
   "file_extension": ".py",
   "mimetype": "text/x-python",
   "name": "python",
   "nbconvert_exporter": "python",
   "pygments_lexer": "ipython3",
   "version": "3.13.2"
  }
 },
 "nbformat": 4,
 "nbformat_minor": 2
}
