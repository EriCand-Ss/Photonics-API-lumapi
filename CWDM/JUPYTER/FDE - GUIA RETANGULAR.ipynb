{
 "cells": [
  {
   "cell_type": "markdown",
   "metadata": {},
   "source": [
    "## SIMULAÇÕES COM FDE"
   ]
  },
  {
   "cell_type": "code",
   "execution_count": 1,
   "metadata": {},
   "outputs": [
    {
     "name": "stderr",
     "output_type": "stream",
     "text": [
      "C:\\Program Files\\Lumerical\\v221\\api\\python\\lumapi.py:796: SyntaxWarning: invalid escape sequence '\\s'\n",
      "  message = re.sub('^(Error:)\\s(prompt line)\\s[0-9]+:', '', str(rvals[2])).strip()\n"
     ]
    }
   ],
   "source": [
    "%matplotlib inline\n",
    "\n",
    "import sys\n",
    "from lumapi import MODE\n",
    "import os\n",
    "import numpy as np\n",
    "import scipy as sp\n",
    "import matplotlib.pyplot as plt"
   ]
  },
  {
   "cell_type": "code",
   "execution_count": 2,
   "metadata": {},
   "outputs": [],
   "source": [
    "mode = MODE()"
   ]
  },
  {
   "cell_type": "code",
   "execution_count": 3,
   "metadata": {},
   "outputs": [],
   "source": [
    "um = 1e-6\n",
    "nm = 1e-9"
   ]
  },
  {
   "cell_type": "code",
   "execution_count": 4,
   "metadata": {},
   "outputs": [],
   "source": [
    "sub_material = 'SiO2 (Glass) - Palik'\n",
    "\n",
    "comprimento = 5*um\n",
    "largura = 0.45*um\n",
    "altura = 0.22*um\n",
    "\n",
    "guia_inferior = 50*um\n",
    "\n",
    "core_material = 'Si (Silicon) - Palik'\n"
   ]
  },
  {
   "cell_type": "code",
   "execution_count": 5,
   "metadata": {},
   "outputs": [],
   "source": [
    "mode.switchtolayout()\n",
    "mode.deleteall()\n",
    "\n",
    "mode.addrect()\n",
    "mode.set('name', 'core_1')\n",
    "mode.set('material', core_material)\n",
    "mode.set(\"x span\",comprimento)\n",
    "mode.set(\"y span\",largura)\n",
    "mode.set(\"z span\",altura)\n"
   ]
  },
  {
   "cell_type": "code",
   "execution_count": 6,
   "metadata": {},
   "outputs": [],
   "source": [
    "fde_solve_material = sub_material\n",
    "\n",
    "x_span_fde = 0\n",
    "y_span_fde = 3*um\n",
    "z_span_fde = 3*um\n",
    "\n",
    "mesh_cells = 100\n",
    "wavelength = 1550*nm\n",
    "startWvg = 1500*nm\n",
    "stopWvg = 1600*nm\n",
    "modes = 4\n",
    "\n",
    "mesh_multiplier = 3"
   ]
  },
  {
   "cell_type": "code",
   "execution_count": 7,
   "metadata": {},
   "outputs": [],
   "source": [
    "mode.switchtolayout()\n",
    "\n",
    "mode.select(\"FDE\")\n",
    "mode.delete()\n",
    "\n",
    "mode.select(\"mesh\")\n",
    "mode.delete()\n",
    "\n",
    "mode.addfde()\n",
    "mode.set(\"solver type\", '2D X normal')\n",
    "mode.set(\"background material\", fde_solve_material)\n",
    "\n",
    "mode.set(\"x\", 0)\n",
    "mode.set(\"y\", 0)\n",
    "mode.set(\"z\", 0)\n",
    "\n",
    "mode.set(\"y span\", y_span_fde)\n",
    "mode.set(\"z span\", z_span_fde)\n",
    "\n",
    "mode.set(\"define y mesh by\", 'number of mesh cells')\n",
    "mode.set(\"define z mesh by\", 'number of mesh cells')\n",
    "mode.set(\"mesh cells y\", mesh_cells)\n",
    "mode.set(\"mesh cells z\", mesh_cells)\n",
    "\n",
    "# Set solver properties\n",
    "mode.set(\"wavelength\", wavelength)\n",
    "\n",
    "# Add ports\n",
    "mode.set(\"number of trial modes\", modes)\n",
    "\n",
    "\n",
    "# Set simulation boundaries\n",
    "mode.set('start waveLength', startWvg)\n",
    "mode.set('stop waveLength', stopWvg)\n",
    "\n",
    "mode.set('y min bc', 1)\n",
    "mode.set('y max bc', 1)\n",
    "mode.set('z min bc', 1)\n",
    "mode.set('z max bc', 1)\n",
    "\n",
    "mode.addmesh()\n",
    "mode.set(\"set mesh multiplier\", True)\n",
    "mode.set(\"x\", 0)\n",
    "mode.set(\"y\", 0)\n",
    "mode.set(\"z\", 0)\n",
    "\n",
    "mode.set(\"x span\", x_span_fde)\n",
    "mode.set(\"y span\", y_span_fde)\n",
    "mode.set(\"z span\", z_span_fde)\n",
    "mode.set(\"y mesh multiplier\", mesh_multiplier)\n",
    "mode.set(\"z mesh multiplier\", mesh_multiplier)"
   ]
  },
  {
   "cell_type": "code",
   "execution_count": 8,
   "metadata": {},
   "outputs": [],
   "source": [
    "mode.findmodes()\n",
    "\n",
    "mode.save(\"Guia Retangular\")"
   ]
  },
  {
   "cell_type": "markdown",
   "metadata": {},
   "source": [
    "## Índice de grupo e Índice efetivo"
   ]
  },
  {
   "cell_type": "markdown",
   "metadata": {},
   "source": [
    "Via findmodes() em um comprimento de onda específico"
   ]
  },
  {
   "cell_type": "code",
   "execution_count": 9,
   "metadata": {},
   "outputs": [
    {
     "name": "stdout",
     "output_type": "stream",
     "text": [
      "4.3362860547275695 2.353696366632936\n"
     ]
    }
   ],
   "source": [
    "group_index = mode.getresult(\"FDE::data::mode1\", \"ng\")\n",
    "neff = mode.getresult(\"FDE::data::mode1\", \"neff\")\n",
    "print(np.abs(group_index[0][0]), np.abs(neff[0][0]))"
   ]
  },
  {
   "cell_type": "markdown",
   "metadata": {},
   "source": [
    "## Para o cálculo de $\\Delta L$\n",
    "\n",
    "$FSR = \\frac{\\lambda^2}{n_g(\\lambda)\\Delta L}$"
   ]
  },
  {
   "cell_type": "code",
   "execution_count": null,
   "metadata": {},
   "outputs": [
    {
     "name": "stdout",
     "output_type": "stream",
     "text": [
      "[1351.33061417  675.66530709  337.83265354] um\n",
      "[0.41 0.82 1.64] nm\n"
     ]
    }
   ],
   "source": [
    "FSR = np.array([(1565.5-1564.68)/2,1565.5-1564.68,1565.5-1563.86])*1e-9\n",
    "\n",
    "delta_L = (wavelength**2)/(np.abs(group_index[0][0])*FSR)\n",
    "print(delta_L*1e6, \"um\")\n",
    "print(FSR*1e9, \"nm\")"
   ]
  },
  {
   "cell_type": "markdown",
   "metadata": {},
   "source": [
    "## Obtendo arquivo .ldf"
   ]
  },
  {
   "cell_type": "code",
   "execution_count": 11,
   "metadata": {},
   "outputs": [],
   "source": [
    "mode.switchtolayout()\n",
    "\n",
    "mode.set(\"track selected mode\", 1)\n",
    "mode.set(\"detailed dispersion calculation\",1)\n",
    "mode.set(\"wavelength\",1.6e-6)\n",
    "mode.setanalysis(\"stop wavelength\", 1.5e-6)\n",
    "mode.setanalysis(\"number of points\", 100)\n",
    "\n",
    "mode.findmodes()\n",
    "\n",
    "mode.selectmode(1)\n",
    "\n",
    "mode.frequencysweep()"
   ]
  },
  {
   "cell_type": "markdown",
   "metadata": {},
   "source": [
    "## Conferindo o índice efetivo"
   ]
  },
  {
   "cell_type": "code",
   "execution_count": 12,
   "metadata": {},
   "outputs": [
    {
     "name": "stderr",
     "output_type": "stream",
     "text": [
      "<>:10: SyntaxWarning: invalid escape sequence '\\m'\n",
      "<>:10: SyntaxWarning: invalid escape sequence '\\m'\n",
      "C:\\Users\\gson5\\AppData\\Local\\Temp\\ipykernel_45112\\1792076382.py:10: SyntaxWarning: invalid escape sequence '\\m'\n",
      "  plt.xlabel('Comprimento de Onda $(\\mu m)$', fontsize = 14)\n"
     ]
    },
    {
     "data": {
      "image/png": "[encoded data removed]",
      "text/plain": [
       "<Figure size 1400x1000 with 1 Axes>"
      ]
     },
     "metadata": {},
     "output_type": "display_data"
    }
   ],
   "source": [
    "from scipy.constants import c\n",
    "\n",
    "neff = np.squeeze(np.abs(mode.getresult(\"FDE::data::frequencysweep\", \"neff\")))\n",
    "comprimento_de_onda = np.squeeze(c/mode.getresult(\"FDE::data::frequencysweep\", \"f\"))\n",
    "\n",
    "plt.figure(figsize=(14,10))\n",
    "\n",
    "plt.plot(comprimento_de_onda*1e6,neff, label = 'Índice efetivo')\n",
    "\n",
    "plt.xlabel('Comprimento de Onda $(\\mu m)$', fontsize = 14)\n",
    "plt.ylabel('neff', fontsize = 14)\n",
    "\n",
    "plt.tick_params(axis='both', labelsize=14)\n",
    "\n",
    "plt.xlim(1.5,1.6)\n",
    "plt.ylim(min(neff) ,max(neff))\n",
    "\n",
    "plt.legend(loc = \"best\", fontsize = 14)\n",
    "\n",
    "plt.grid(True)\n",
    "\n",
    "plt.show()\n"
   ]
  }
 ],
 "metadata": {
  "kernelspec": {
   "display_name": "Python 3",
   "language": "python",
   "name": "python3"
  },
  "language_info": {
   "codemirror_mode": {
    "name": "ipython",
    "version": 3
   },
   "file_extension": ".py",
   "mimetype": "text/x-python",
   "name": "python",
   "nbconvert_exporter": "python",
   "pygments_lexer": "ipython3",
   "version": "3.13.3"
  }
 },
 "nbformat": 4,
 "nbformat_minor": 2
}
