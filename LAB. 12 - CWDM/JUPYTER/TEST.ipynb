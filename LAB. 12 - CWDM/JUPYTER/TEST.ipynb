{
 "cells": [
  {
   "cell_type": "code",
   "execution_count": 1,
   "id": "b950113c",
   "metadata": {},
   "outputs": [
    {
     "name": "stderr",
     "output_type": "stream",
     "text": [
      "2025-05-14 13:47:55,736 - INFO - Added Sequence\n",
      "2025-05-14 13:47:55,737 - INFO - This sequence will take approximately 25.0 seconds to run\n",
      "2025-05-14 13:48:02,788 - INFO - Please make sure a sequence and device(s) are selected before linking.\n"
     ]
    }
   ],
   "source": [
    "#%%\n",
    "import SiEPIC_TestCreator\n",
    "\n",
    "if __name__ == \"__main__\":\n",
    "    SiEPIC_TestCreator.sequencecreator.launch()\n",
    "# %%\n"
   ]
  }
 ],
 "metadata": {
  "kernelspec": {
   "display_name": "Python 3",
   "language": "python",
   "name": "python3"
  },
  "language_info": {
   "codemirror_mode": {
    "name": "ipython",
    "version": 3
   },
   "file_extension": ".py",
   "mimetype": "text/x-python",
   "name": "python",
   "nbconvert_exporter": "python",
   "pygments_lexer": "ipython3",
   "version": "3.13.3"
  }
 },
 "nbformat": 4,
 "nbformat_minor": 5
}
