{
 "cells": [
  {
   "cell_type": "code",
   "execution_count": 142,
   "id": "c7748d1f",
   "metadata": {},
   "outputs": [
    {
     "name": "stdout",
     "output_type": "stream",
     "text": [
      "(['1.15 um'], array([3.435315]), array([3.435315]), array([3.439195]), array([0.]), array([0.]), array([0.]))\n"
     ]
    },
    {
     "data": {
      "text/html": [
       "<style type=\"text/css\">\n",
       "</style>\n",
       "<table id=\"T_bb8b5\">\n",
       "  <thead>\n",
       "    <tr>\n",
       "      <th class=\"blank level0\" >&nbsp;</th>\n",
       "      <th id=\"T_bb8b5_level0_col0\" class=\"col_heading level0 col0\" >n_xx</th>\n",
       "      <th id=\"T_bb8b5_level0_col1\" class=\"col_heading level0 col1\" >n_yy</th>\n",
       "      <th id=\"T_bb8b5_level0_col2\" class=\"col_heading level0 col2\" >n_zz</th>\n",
       "      <th id=\"T_bb8b5_level0_col3\" class=\"col_heading level0 col3\" >n_yz</th>\n",
       "      <th id=\"T_bb8b5_level0_col4\" class=\"col_heading level0 col4\" >n_xz</th>\n",
       "      <th id=\"T_bb8b5_level0_col5\" class=\"col_heading level0 col5\" >n_xy</th>\n",
       "    </tr>\n",
       "  </thead>\n",
       "  <tbody>\n",
       "    <tr>\n",
       "      <th id=\"T_bb8b5_level0_row0\" class=\"row_heading level0 row0\" >1.15 um</th>\n",
       "      <td id=\"T_bb8b5_row0_col0\" class=\"data row0 col0\" >3,4353</td>\n",
       "      <td id=\"T_bb8b5_row0_col1\" class=\"data row0 col1\" >3,4353</td>\n",
       "      <td id=\"T_bb8b5_row0_col2\" class=\"data row0 col2\" >3,4392</td>\n",
       "      <td id=\"T_bb8b5_row0_col3\" class=\"data row0 col3\" >0,0000</td>\n",
       "      <td id=\"T_bb8b5_row0_col4\" class=\"data row0 col4\" >0,0000</td>\n",
       "      <td id=\"T_bb8b5_row0_col5\" class=\"data row0 col5\" >0,0000</td>\n",
       "    </tr>\n",
       "  </tbody>\n",
       "</table>\n"
      ],
      "text/plain": [
       "<pandas.io.formats.style.Styler at 0x1e6af87a590>"
      ]
     },
     "execution_count": 142,
     "metadata": {},
     "output_type": "execute_result"
    }
   ],
   "source": [
    "import numpy as np\n",
    "import pandas as pd\n",
    "import matplotlib as mpl\n",
    "\n",
    "def calculation_refraction_index(material_choose,sigma_xx,sigma_yy,sigma_zz,sigma_yz,sigma_xz,sigma_xy):\n",
    "\n",
    "    material = {\n",
    "        'Material': ['Ge', 'Si', 'GaAs', 'Fused Silica', 'GaP', 'LiNbO3', 'LiTaO3', 'Al2O3', 'PbMoO4'],\n",
    "        'wv_lenght': [['2.0 - 2.2 um', '10.6 um'], ['1.15 um', '3.39 um'],['1.15 um'], ['0.633 um'],['0.633 um'],['0.633 um'],['0.633 um'],['0.633 um'],['0.633 um']],\n",
    "        'n0' : [4, 3.42, 3.43, 1.46, 3.32, 2.29, 2.18, 1.76, 2.39],\n",
    "        'C1' : [[-10.56, 44.27],[-11.35,-11.04], [-18.39],[0.65], [-17.91],[-2.10],[-2.57], [-1.61], [6.63]],\n",
    "        'C2' : [[-6.78,30.37],[3.65,4.04],[-10.63],[4.50],[-1.87],[2.55],[1.91],[0.202],[6.63]],       \n",
    "        'C3' : [[-35.29,59.61], [0,-12.82],[-24.46],[-3.85],[-19.21],[-14.63],[1.53],[-1.90],[17.04]]       \n",
    "                }\n",
    "\n",
    "    index_material = material['Material'].index(material_choose)\n",
    "    lambda_0 = material['wv_lenght'][index_material]\n",
    "    refraction_index = material['n0'][index_material]\n",
    "    C1 = np.array(material['C1'][index_material])*1e-12\n",
    "    C2 = np.array(material['C2'][index_material])*1e-12\n",
    "    C3 = np.array(material['C3'][index_material])*1e-12\n",
    "    n_xx = refraction_index - C1*sigma_xx - C2*sigma_yy - C2*sigma_zz\n",
    "    n_yy = refraction_index - C2*sigma_xx - C1*sigma_yy - C2*sigma_zz\n",
    "    n_zz = refraction_index - C2*sigma_xx - C2*sigma_yy - C1*sigma_zz\n",
    "    n_yz = -C3*sigma_yz\n",
    "    n_xz = -C3*sigma_xz\n",
    "    n_xy = -C3*sigma_xy\n",
    "\n",
    "    return lambda_0,n_xx, n_yy, n_zz, n_yz, n_xz, n_xy\n",
    "\n",
    "def refraction_index(material_choose,sigma_xx,sigma_yy,sigma_zz,sigma_yz,sigma_xz,sigma_xy):\n",
    "\n",
    "    n = calculation_refraction_index(material_choose,sigma_xx,sigma_yy,sigma_zz,sigma_yz,sigma_xz,sigma_xy)\n",
    "    print(n)\n",
    "    df = pd.DataFrame({\n",
    "        \"n_xx\": n[1],\n",
    "        \"n_yy\": n[2],\n",
    "        \"n_zz\": n[3],\n",
    "        \"n_yz\": n[4],\n",
    "        \"n_xz\": n[5],\n",
    "        \"n_xy\": n[6]\n",
    "    })\n",
    "    styler = df.style \\\n",
    "    .format(precision=4, thousands=\".\", decimal=\",\") \\\n",
    "    .format_index(axis=1) \\\n",
    "    .relabel_index(n[0], axis=0)\n",
    "\n",
    "    return styler\n",
    "\n",
    "refraction_index('GaAs', 0, 0, 0.5e9, 0, 0, 0)\n"
   ]
  }
 ],
 "metadata": {
  "kernelspec": {
   "display_name": "Python 3",
   "language": "python",
   "name": "python3"
  },
  "language_info": {
   "codemirror_mode": {
    "name": "ipython",
    "version": 3
   },
   "file_extension": ".py",
   "mimetype": "text/x-python",
   "name": "python",
   "nbconvert_exporter": "python",
   "pygments_lexer": "ipython3",
   "version": "3.11.9"
  }
 },
 "nbformat": 4,
 "nbformat_minor": 5
}
