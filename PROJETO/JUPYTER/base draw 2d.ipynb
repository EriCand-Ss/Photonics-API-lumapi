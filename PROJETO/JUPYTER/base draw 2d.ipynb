{
 "cells": [
  {
   "cell_type": "code",
   "execution_count": 1,
   "metadata": {},
   "outputs": [
    {
     "name": "stderr",
     "output_type": "stream",
     "text": [
      "C:\\Program Files\\Lumerical\\v221\\api\\python\\lumapi.py:796: SyntaxWarning: invalid escape sequence '\\s'\n",
      "  message = re.sub('^(Error:)\\s(prompt line)\\s[0-9]+:', '', str(rvals[2])).strip()\n"
     ]
    }
   ],
   "source": [
    "%matplotlib inline\n",
    "\n",
    "import sys\n",
    "from lumapi import FDTD\n",
    "import os\n",
    "import numpy as np\n",
    "import scipy as sp\n",
    "import matplotlib"
   ]
  },
  {
   "cell_type": "code",
   "execution_count": 2,
   "metadata": {},
   "outputs": [],
   "source": [
    "fdtd = FDTD()"
   ]
  },
  {
   "cell_type": "markdown",
   "metadata": {},
   "source": [
    "## Create waveguides"
   ]
  },
  {
   "cell_type": "code",
   "execution_count": 3,
   "metadata": {},
   "outputs": [],
   "source": [
    "fdtd.switchtolayout();\n",
    "fdtd.selectall();\n",
    "fdtd.delete();\n",
    "\n",
    "### SIM PARAMS\n",
    "size_x=5e-6;\n",
    "size_y=5e-6;\n",
    "size_z=1.2e-6;\n",
    "mesh_x=30e-9;\n",
    "mesh_y=30e-9;\n",
    "mesh_z=30e-9;\n",
    "finer_mesh_size=4.3e-6;\n",
    "finer_mesh_size_z=0.6e-6;\n",
    "\n",
    "## GEOMETRY\n",
    "\n",
    "# INPUT WAVEGUIDE\n",
    "fdtd.addrect();\n",
    "fdtd.set('name','input wg');\n",
    "fdtd.set('x span',3e-6);\n",
    "fdtd.set('y span',0.5e-6);\n",
    "fdtd.set('z span',220e-9);\n",
    "fdtd.set('y',0);\n",
    "fdtd.set('z',0);\n",
    "fdtd.set('x',-3.5e-6);\n",
    "fdtd.set('index', 3.4784);\n",
    "\n",
    "## OUTPUT WAVEGUIDES\n",
    "fdtd.addrect();\n",
    "fdtd.set('name','output wg');\n",
    "fdtd.set('x span',3e-6);\n",
    "fdtd.set('y span',0.5e-6);\n",
    "fdtd.set('z span',220e-9);\n",
    "fdtd.set('y',0);\n",
    "fdtd.set('z',0);\n",
    "fdtd.set('x',3.5e-6);\n",
    "fdtd.set('index', 3.4784);\n",
    "\n",
    "fdtd.addrect();\n",
    "fdtd.set('name','output wg top');\n",
    "fdtd.set('x span',0.5e-6);\n",
    "fdtd.set('y span',3e-6);\n",
    "fdtd.set('z span',220e-9);\n",
    "fdtd.set('y',-3.5e-6);\n",
    "fdtd.set('x',0);\n",
    "fdtd.set('z',0);\n",
    "fdtd.set('index', 3.4784);\n",
    "\n",
    "fdtd.addrect();\n",
    "fdtd.set('name','output wg bottom');\n",
    "fdtd.set('x span',0.5e-6);\n",
    "fdtd.set('y span',3e-6);\n",
    "fdtd.set('z span',220e-9);\n",
    "fdtd.set('y',3.5e-6);\n",
    "fdtd.set('x',0);\n",
    "fdtd.set('z',0);\n",
    "fdtd.set('index', 3.4784);\n",
    "\n",
    "# SOURCE\n",
    "fdtd.addmode();\n",
    "fdtd.set('direction','Forward');\n",
    "fdtd.set('injection axis','x-axis');\n",
    "# fdtd.set('polarization angle',0);\n",
    "fdtd.set('y',0);\n",
    "fdtd.set('y span',size_y);\n",
    "fdtd.set('x',-finer_mesh_size/2.0+mesh_x);\n",
    "fdtd.set('z',0);\n",
    "fdtd.set('z span',1e-6);\n",
    "fdtd.set('override global source settings',False);\n",
    "fdtd.set('mode selection','fundamental TE mode');\n"
   ]
  },
  {
   "cell_type": "markdown",
   "metadata": {},
   "source": [
    "## Create solver"
   ]
  },
  {
   "cell_type": "code",
   "execution_count": 4,
   "metadata": {},
   "outputs": [],
   "source": [
    "fdtd.select('FDTD')\n",
    "fdtd.delete()\n",
    "\n",
    "# FDTD\n",
    "fdtd.addfdtd();\n",
    "fdtd.set('dimension','2D');\n",
    "fdtd.set('mesh accuracy',2);\n",
    "fdtd.set('x min',-size_x/2);\n",
    "fdtd.set('x max',size_x/2);\n",
    "fdtd.set('y min',-size_y/2);\n",
    "fdtd.set('y max',size_y/2);\n",
    "fdtd.set('z min',-size_z/2);\n",
    "fdtd.set('z max',size_z/2);\n",
    "fdtd.set('index', 1.4442);\n",
    "fdtd.set('force symmetric y mesh',1);\n",
    "# fdtd.set('force symmetric z mesh',1);\n",
    "# fdtd.set('z min bc','Symmetric');\n",
    "fdtd.set('y min bc','Anti-Symmetric');\n",
    "fdtd.set('pml layers',12);\n"
   ]
  },
  {
   "cell_type": "markdown",
   "metadata": {},
   "source": [
    "## Create mesh and sources"
   ]
  },
  {
   "cell_type": "code",
   "execution_count": 5,
   "metadata": {},
   "outputs": [],
   "source": [
    "fdtd.select('mesh')\n",
    "fdtd.delete()\n",
    "fdtd.select('opt_fields')\n",
    "fdtd.delete()\n",
    "fdtd.select('fom')\n",
    "fdtd.delete()\n",
    "\n",
    "fdtd.addmesh();\n",
    "fdtd.set('x',0);\n",
    "fdtd.set('x span',finer_mesh_size);\n",
    "fdtd.set('y',0);\n",
    "fdtd.set('y span',finer_mesh_size);\n",
    "fdtd.set('z',0);\n",
    "fdtd.set('z span',finer_mesh_size_z);\n",
    "fdtd.set('dx',mesh_x);\n",
    "fdtd.set('dy',mesh_y);\n",
    "fdtd.set('dx',mesh_z);\n",
    "\n",
    "# Optimization fields\n",
    "fdtd.addpower();\n",
    "fdtd.set('name','opt_fields');\n",
    "fdtd.set('monitor type','3D');\n",
    "fdtd.set('x min',-size_x/2);\n",
    "fdtd.set('x max',size_x/2);\n",
    "fdtd.set('y min',-size_y/2);\n",
    "fdtd.set('y max',size_y/2);\n",
    "fdtd.set('z min',-0.4e-6);\n",
    "fdtd.set('z max',0.4e-6);\n",
    "\n",
    "# FOM FIELDS\n",
    "fdtd.addpower();\n",
    "fdtd.set('name','fom');\n",
    "fdtd.set('monitor type','2D X-normal');\n",
    "fdtd.set('x',finer_mesh_size/2.0-mesh_x);\n",
    "fdtd.set('y',0);\n",
    "fdtd.set('y span',size_y);\n",
    "fdtd.set('z min',-0.5e-6);\n",
    "fdtd.set('z max',0.5e-6);"
   ]
  },
  {
   "cell_type": "code",
   "execution_count": 6,
   "metadata": {},
   "outputs": [],
   "source": [
    "fdtd.save(\"CROSS_2D\")"
   ]
  }
 ],
 "metadata": {
  "kernelspec": {
   "display_name": "Python 3",
   "language": "python",
   "name": "python3"
  },
  "language_info": {
   "codemirror_mode": {
    "name": "ipython",
    "version": 3
   },
   "file_extension": ".py",
   "mimetype": "text/x-python",
   "name": "python",
   "nbconvert_exporter": "python",
   "pygments_lexer": "ipython3",
   "version": "3.13.1"
  }
 },
 "nbformat": 4,
 "nbformat_minor": 2
}
