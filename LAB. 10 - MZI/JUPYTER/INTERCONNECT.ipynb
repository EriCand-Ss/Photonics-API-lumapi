{
 "cells": [
  {
   "cell_type": "markdown",
   "metadata": {},
   "source": [
    "## Importações"
   ]
  },
  {
   "cell_type": "code",
   "execution_count": 520,
   "metadata": {},
   "outputs": [],
   "source": [
    "%matplotlib inline\n",
    "\n",
    "import sys\n",
    "import lumapi\n",
    "import os\n",
    "import numpy as np\n",
    "import scipy as sp\n",
    "import matplotlib.pyplot as plt\n",
    "from scipy.constants import c\n"
   ]
  },
  {
   "cell_type": "code",
   "execution_count": 521,
   "metadata": {},
   "outputs": [],
   "source": [
    "inter = lumapi.INTERCONNECT()"
   ]
  },
  {
   "cell_type": "code",
   "execution_count": 522,
   "metadata": {},
   "outputs": [],
   "source": [
    "um = 1e-6\n",
    "nm = 1e-9\n",
    "\n",
    "delta_L = [553.97536458,  55.39753646,  27.69876823]"
   ]
  },
  {
   "cell_type": "markdown",
   "metadata": {},
   "source": [
    "Com o uso de Y-Branch na entrada e saída do MZI, não é possível obter, em uma única simulação, transmissões defasadas (assim como observado em MZI com saída utilizando acoplador direcional). Para isso, é somada uma parcela $x$ ao $\\Delta L$, onde:\n",
    "\n",
    "$$x = \\frac{\\lambda}{2n_{eff}}$$"
   ]
  },
  {
   "cell_type": "code",
   "execution_count": 523,
   "metadata": {},
   "outputs": [
    {
     "name": "stdout",
     "output_type": "stream",
     "text": [
      "0.32926931909601875\n"
     ]
    }
   ],
   "source": [
    "lamb = 1550*nm\n",
    "neff = 2.353696366632936\n",
    "x_transmissao_defasada = lamb/(2*neff)\n",
    "print(x_transmissao_defasada*1e6)"
   ]
  },
  {
   "cell_type": "markdown",
   "metadata": {},
   "source": [
    "## Criação e posicionamento dos blocos"
   ]
  },
  {
   "cell_type": "code",
   "execution_count": 524,
   "metadata": {},
   "outputs": [],
   "source": [
    "\n",
    "inter.switchtodesign()\n",
    "inter.deleteall()\n",
    "\n",
    "inter.addelement('Optical Network Analyzer')\n",
    "inter.set(\"number of points\",1000)\n",
    "inter.set(\"input parameter\",2)\n",
    "inter.set(\"start frequency\", c/(1500*nm))\n",
    "inter.set(\"stop frequency\", c/(1600*nm))\n",
    "\n",
    "guia_menor = 50*um\n",
    "\n",
    "# 1 - ideal\n",
    "# 2 - simulado\n",
    "# 3 - pdk\n",
    "caso = 3\n",
    "#delta_L[0] 1um\n",
    "#delta_L[1] 10um\n",
    "#delta_L[2] 20um\n",
    "\n",
    "delta_L = delta_L[2]\n",
    "\n",
    "if (caso == 1):\n",
    "    inter.addelement('Waveguide Y Branch')\n",
    "    inter.set(\"name\", \"Y1\")\n",
    "\n",
    "    inter.select(\"Y1\")\n",
    "    inter.copy()\n",
    "    inter.set(\"name\",\"Y2\")\n",
    "    inter.rotateelement(\"Y2\")\n",
    "    inter.rotateelement(\"Y2\")\n",
    "\n",
    "    inter.addelement('Straight waveguide')\n",
    "    inter.set(\"name\", \"Guia_1\")\n",
    "    inter.set(\"length\",guia_menor)\n",
    "    inter.set(\"effective index 1\", 2.35400)\n",
    "    inter.set(\"group index 1\", 4.33683)\n",
    "\n",
    "    inter.addelement('Straight waveguide')\n",
    "    inter.set(\"name\", \"Guia_2\")\n",
    "    inter.set(\"length\",guia_menor + delta_L*um  + x_transmissao_defasada)\n",
    "    inter.set(\"effective index 1\", 2.35400)\n",
    "    inter.set(\"group index 1\", 4.33683)\n",
    "\n",
    "elif (caso == 2):\n",
    "    inter.addelement(\"Optical N Port S-Parameter\")\n",
    "    inter.set(\"name\", \"Y1\")\n",
    "    inter.set(\"load from file\", 1)\n",
    "    inter.set(\"s parameters filename\", r\"C:\\Users\\gson5\\Downloads\\ERICK TRALHAS\\FOTÔNICA\\LAB. 7\\te.dat\")\n",
    "\n",
    "    inter.select(\"Y1\")\n",
    "    inter.copy()\n",
    "    inter.set(\"name\",\"Y2\")\n",
    "    inter.rotateelement(\"Y2\")\n",
    "    inter.rotateelement(\"Y2\")\n",
    "\n",
    "    inter.addelement(\"MODE Waveguide\")\n",
    "    inter.set(\"name\", \"Guia_1\")\n",
    "    inter.set(\"ldf filename\", r\"C:\\Users\\gson5\\Downloads\\ERICK TRALHAS\\FOTÔNICA\\LAB. 10 - MZI\\GUIA.ldf\")\n",
    "    inter.set(\"length\", guia_menor + delta_L*um)\n",
    "\n",
    "    inter.select(\"Guia_1\")\n",
    "    inter.copy()\n",
    "    inter.set(\"name\",\"Guia_2\")\n",
    "    inter.set(\"length\", guia_menor)\n",
    "elif (caso == 3):\n",
    "    inter.expressioncheckoff()\n",
    "    inter.addelement(\"ebeam_y_1550\")\n",
    "    inter.set(\"name\", \"Y1\")\n",
    "\n",
    "    inter.select(\"Y1\")\n",
    "    inter.copy()\n",
    "    inter.set(\"name\",\"Y2\")\n",
    "    inter.rotateelement(\"Y2\")\n",
    "    inter.rotateelement(\"Y2\")\n",
    "\n",
    "    inter.addelement('ebeam_wg_integral_1550')\n",
    "    inter.set(\"name\", \"Guia_1\")\n",
    "    inter.set(\"annotate\", False)\n",
    "    inter.set(\"wg_length\", guia_menor + delta_L*um )\n",
    "    inter.set(\"wg_width\", 450e-9)\n",
    "\n",
    "    inter.addelement('ebeam_wg_integral_1550')\n",
    "    inter.set(\"name\", \"Guia_2\")\n",
    "    inter.set(\"annotate\", False)\n",
    "    inter.set(\"wg_length\", guia_menor)\n",
    "    inter.set(\"wg_width\", 450e-9)\n",
    "\n",
    "inter.setposition(\"ONA_1\",0,0)\n",
    "inter.setposition(\"Y1\",-200,250)\n",
    "inter.setposition(\"Y2\",200,250)\n",
    "inter.setposition(\"Guia_1\",0,175)\n",
    "inter.setposition(\"Guia_2\",0,325)\n"
   ]
  },
  {
   "cell_type": "markdown",
   "metadata": {},
   "source": [
    "## Conexão dos blocos"
   ]
  },
  {
   "cell_type": "code",
   "execution_count": 525,
   "metadata": {},
   "outputs": [],
   "source": [
    "if(caso == 1):\n",
    "    inter.connect(\"Y1\", \"port 2\", \"Guia_1\", \"port 1\")\n",
    "    inter.connect(\"Y1\", \"port 3\", \"Guia_2\", \"port 1\")\n",
    "    inter.connect(\"Guia_1\", \"port 2\", \"Y2\", \"port 3\")\n",
    "    inter.connect(\"Guia_2\", \"port 2\", \"Y2\", \"port 2\")\n",
    "    inter.connect(\"ONA_1\", \"output\", \"Y1\", \"port 1\")\n",
    "    inter.connect(\"ONA_1\", \"input 1\", \"Y2\", \"port 1\")\n",
    "\n",
    "elif(caso == 2):\n",
    "    inter.connect(\"Y1\", \"out 1\", \"Guia_1\", \"port 1\")\n",
    "    inter.connect(\"Y1\", \"out 2\", \"Guia_2\", \"port 1\")\n",
    "    inter.connect(\"Guia_1\", \"port 2\", \"Y2\", \"out 2\")\n",
    "    inter.connect(\"Guia_2\", \"port 2\", \"Y2\", \"out 1\")\n",
    "    inter.connect(\"ONA_1\", \"output\", \"Y1\", \"in\")\n",
    "    inter.connect(\"ONA_1\", \"input 1\", \"Y2\", \"in\")\n",
    "elif(caso == 3):\n",
    "    inter.connect(\"Y1\", \"opt_b1\", \"Guia_1\", \"port 1\")\n",
    "    inter.connect(\"Y1\", \"opt_b2\", \"Guia_2\", \"port 1\")\n",
    "    inter.connect(\"Guia_1\", \"port 2\", \"Y2\", \"opt_b2\")\n",
    "    inter.connect(\"Guia_2\", \"port 2\", \"Y2\", \"opt_b1\")\n",
    "    inter.connect(\"ONA_1\", \"output\", \"Y1\", \"opt_a1\")\n",
    "    inter.connect(\"ONA_1\", \"input 1\", \"Y2\", \"opt_a1\")    "
   ]
  },
  {
   "cell_type": "code",
   "execution_count": 526,
   "metadata": {},
   "outputs": [],
   "source": [
    "inter.run()"
   ]
  },
  {
   "cell_type": "markdown",
   "metadata": {},
   "source": [
    "## Obtenção de resultados"
   ]
  },
  {
   "cell_type": "code",
   "execution_count": 527,
   "metadata": {},
   "outputs": [],
   "source": [
    "if (caso == 1):\n",
    "    TE_gain = np.squeeze(inter.getresult(\"ONA_1\",\"input 1/mode 1/gain\")['TE gain (dB)'])\n",
    "    FSR1 = inter.getresult(\"ONA_1\",\"input 1/mode 1/peak/free spectral range\")\n",
    "    fsr_wv= np.squeeze(FSR1['wavelength'])\n",
    "    FSR1 = FSR1[\"TE free spectral range (m)\"]\n",
    "\n",
    "elif (caso == 2):\n",
    "    TE_gain = np.squeeze(inter.getresult(\"ONA_1\",\"input 1/mode 1/gain\")['mode 1 gain (dB)'])\n",
    "    FSR1 = inter.getresult(\"ONA_1\",\"input 1/mode 1/peak/free spectral range\")\n",
    "    fsr_wv= np.squeeze(FSR1['wavelength'])\n",
    "    FSR1 = FSR1[\"mode 1 free spectral range (m)\"]\n",
    "    \n",
    "elif (caso == 3):\n",
    "    TE_gain = np.squeeze(inter.getresult(\"ONA_1\",\"input 1/mode 1/gain\")[\"'TE' gain (dB)\"])\n",
    "    FSR1 = inter.getresult(\"ONA_1\",\"input 1/mode 1/peak/free spectral range\")\n",
    "    fsr_wv= np.squeeze(FSR1['wavelength'])\n",
    "    FSR1 = FSR1[\"'TE' free spectral range (m)\"]\n",
    "\n",
    "comprimentos_de_onda = np.squeeze(inter.getresult(\"ONA_1\",\"input 1/mode 1/gain\")['wavelength'])"
   ]
  },
  {
   "cell_type": "code",
   "execution_count": 528,
   "metadata": {},
   "outputs": [
    {
     "name": "stderr",
     "output_type": "stream",
     "text": [
      "<>:3: SyntaxWarning: invalid escape sequence '\\D'\n",
      "<>:3: SyntaxWarning: invalid escape sequence '\\m'\n",
      "<>:4: SyntaxWarning: invalid escape sequence '\\m'\n",
      "<>:3: SyntaxWarning: invalid escape sequence '\\D'\n",
      "<>:3: SyntaxWarning: invalid escape sequence '\\m'\n",
      "<>:4: SyntaxWarning: invalid escape sequence '\\m'\n",
      "C:\\Users\\gson5\\AppData\\Local\\Temp\\ipykernel_17916\\1578903432.py:3: SyntaxWarning: invalid escape sequence '\\D'\n",
      "  plt.plot(fsr_wv*1e6,FSR1*1e9, label = f\"$\\Delta L$ = {delta_L:.3f} $\\mu$\")\n",
      "C:\\Users\\gson5\\AppData\\Local\\Temp\\ipykernel_17916\\1578903432.py:3: SyntaxWarning: invalid escape sequence '\\m'\n",
      "  plt.plot(fsr_wv*1e6,FSR1*1e9, label = f\"$\\Delta L$ = {delta_L:.3f} $\\mu$\")\n",
      "C:\\Users\\gson5\\AppData\\Local\\Temp\\ipykernel_17916\\1578903432.py:4: SyntaxWarning: invalid escape sequence '\\m'\n",
      "  plt.xlabel('Comprimento de Onda $(\\mu m)$', fontsize = 14)\n"
     ]
    },
    {
     "data": {
      "image/png": "[encoded data removed]",
      "text/plain": [
       "<Figure size 1400x1000 with 1 Axes>"
      ]
     },
     "metadata": {},
     "output_type": "display_data"
    }
   ],
   "source": [
    "plt.figure(figsize=(14,10))\n",
    "\n",
    "plt.plot(fsr_wv*1e6,FSR1*1e9, label = f\"$\\Delta L$ = {delta_L:.3f} $\\mu$\")\n",
    "plt.xlabel('Comprimento de Onda $(\\mu m)$', fontsize = 14)\n",
    "plt.ylabel('FSR (nm)', fontsize = 14)\n",
    "\n",
    "plt.tick_params(axis='both', labelsize=14)\n",
    "\n",
    "plt.xlim(1.5,1.6)\n",
    "plt.ylim(min(FSR1*1e9) ,max(FSR1*1e9))\n",
    "\n",
    "plt.legend(loc = \"best\", fontsize = 14)\n",
    "\n",
    "plt.grid(True)\n",
    "\n",
    "plt.savefig('FSR 20nm PDK.png')\n",
    "plt.show()"
   ]
  },
  {
   "cell_type": "code",
   "execution_count": 529,
   "metadata": {},
   "outputs": [
    {
     "name": "stderr",
     "output_type": "stream",
     "text": [
      "<>:1: SyntaxWarning: invalid escape sequence '\\m'\n",
      "<>:1: SyntaxWarning: invalid escape sequence '\\m'\n",
      "C:\\Users\\gson5\\AppData\\Local\\Temp\\ipykernel_17916\\3650111988.py:1: SyntaxWarning: invalid escape sequence '\\m'\n",
      "  \"\"\"\n"
     ]
    },
    {
     "data": {
      "text/plain": [
       "'\\nplt.figure(figsize=(14,10))\\n\\nplt.plot(comprimentos_de_onda*1e6,TE_gain, label = f\"FSR = 20 nm, L = {(guia_menor + delta_L*um)*1e6:.3f} $\\\\mu$\")\\n# plt.plot(comprimentos_de_onda*1e6,TE_gain1, label = f\\'FSR = 20 nm, L = {(guia_menor + delta_L*um +x_transmissao_defasada)*1e6:.3f} $\\\\mu$\\')\\nplt.xlabel(\\'Comprimento de Onda $(\\\\mu m)$\\', fontsize = 14)\\nplt.ylabel(\\'Transmissão (dB)\\', fontsize = 14)\\n\\nplt.axhline(y=-3, linestyle=\\'--\\', color =\"g\",label = \\'-3 dB\\')\\n\\nplt.tick_params(axis=\\'both\\', labelsize=14)\\n\\nplt.xlim(1.5,1.6)\\nplt.ylim(min(TE_gain) - 1 ,1)\\n\\nplt.legend(loc = \"best\", fontsize = 14)\\n\\nplt.grid(True)\\n\\n#plt.savefig(\\'GANHO IDEAL FSR 20nm E DEFASADO.png\\')\\nplt.show()\\n'"
      ]
     },
     "execution_count": 529,
     "metadata": {},
     "output_type": "execute_result"
    }
   ],
   "source": [
    "\"\"\"\n",
    "plt.figure(figsize=(14,10))\n",
    "\n",
    "plt.plot(comprimentos_de_onda*1e6,TE_gain, label = f\"FSR = 20 nm, L = {(guia_menor + delta_L*um)*1e6:.3f} $\\mu$\")\n",
    "# plt.plot(comprimentos_de_onda*1e6,TE_gain1, label = f'FSR = 20 nm, L = {(guia_menor + delta_L*um +x_transmissao_defasada)*1e6:.3f} $\\mu$')\n",
    "plt.xlabel('Comprimento de Onda $(\\mu m)$', fontsize = 14)\n",
    "plt.ylabel('Transmissão (dB)', fontsize = 14)\n",
    "\n",
    "plt.axhline(y=-3, linestyle='--', color =\"g\",label = '-3 dB')\n",
    "\n",
    "plt.tick_params(axis='both', labelsize=14)\n",
    "\n",
    "plt.xlim(1.5,1.6)\n",
    "plt.ylim(min(TE_gain) - 1 ,1)\n",
    "\n",
    "plt.legend(loc = \"best\", fontsize = 14)\n",
    "\n",
    "plt.grid(True)\n",
    "\n",
    "#plt.savefig('GANHO IDEAL FSR 20nm E DEFASADO.png')\n",
    "plt.show()\n",
    "\"\"\""
   ]
  },
  {
   "cell_type": "code",
   "execution_count": 530,
   "metadata": {},
   "outputs": [],
   "source": [
    "##inter.close()"
   ]
  }
 ],
 "metadata": {
  "kernelspec": {
   "display_name": "Python 3",
   "language": "python",
   "name": "python3"
  },
  "language_info": {
   "codemirror_mode": {
    "name": "ipython",
    "version": 3
   },
   "file_extension": ".py",
   "mimetype": "text/x-python",
   "name": "python",
   "nbconvert_exporter": "python",
   "pygments_lexer": "ipython3",
   "version": "3.13.2"
  }
 },
 "nbformat": 4,
 "nbformat_minor": 2
}
